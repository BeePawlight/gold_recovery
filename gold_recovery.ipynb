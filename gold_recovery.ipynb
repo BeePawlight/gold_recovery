{
 "cells": [
  {
   "cell_type": "markdown",
   "id": "64e03372",
   "metadata": {},
   "source": [
    "# Восстановление золота из руды"
   ]
  },
  {
   "cell_type": "markdown",
   "id": "b163dfff",
   "metadata": {},
   "source": [
    "Подготовьте прототип модели машинного обучения для «Цифры». Компания разрабатывает решения для эффективной работы промышленных предприятий.\n",
    "\n",
    "Модель должна предсказать коэффициент восстановления золота из золотосодержащей руды. Используйте данные с параметрами добычи и очистки. \n",
    "\n",
    "Модель поможет оптимизировать производство, чтобы не запускать предприятие с убыточными характеристиками."
   ]
  },
  {
   "cell_type": "markdown",
   "id": "0ecc4ef9",
   "metadata": {},
   "source": [
    "## Подготовка данных"
   ]
  },
  {
   "cell_type": "markdown",
   "id": "91bce3c2",
   "metadata": {},
   "source": [
    "**Импорт библиотек**"
   ]
  },
  {
   "cell_type": "code",
   "execution_count": 1,
   "id": "80a89d87",
   "metadata": {},
   "outputs": [],
   "source": [
    "import pandas as pd\n",
    "from sklearn.metrics import mean_absolute_error,make_scorer\n",
    "import seaborn as sns\n",
    "from matplotlib import pyplot as plt\n",
    "from sklearn.ensemble import RandomForestRegressor\n",
    "from sklearn.linear_model import LinearRegression\n",
    "from sklearn.tree import DecisionTreeRegressor\n",
    "import numpy as np\n",
    "from sklearn.model_selection import cross_val_score\n",
    "from numpy.random import RandomState\n",
    "from sklearn.dummy import DummyRegressor\n",
    "import warnings\n",
    "warnings.filterwarnings('ignore')"
   ]
  },
  {
   "cell_type": "markdown",
   "id": "603fa006",
   "metadata": {},
   "source": [
    "### Ознакомление с данными"
   ]
  },
  {
   "cell_type": "code",
   "execution_count": 2,
   "id": "c025f857",
   "metadata": {},
   "outputs": [],
   "source": [
    "data_train = pd.read_csv('/datasets/gold_recovery_train_new.csv')\n",
    "data_test = pd.read_csv('/datasets/gold_recovery_test_new.csv')\n",
    "data_full = pd.read_csv('/datasets/gold_recovery_full_new.csv')"
   ]
  },
  {
   "cell_type": "markdown",
   "id": "1c4a6d65",
   "metadata": {},
   "source": [
    "**Тренировочный набор**"
   ]
  },
  {
   "cell_type": "code",
   "execution_count": 3,
   "id": "a4657f7c",
   "metadata": {},
   "outputs": [
    {
     "data": {
      "text/plain": [
       "(14149, 87)"
      ]
     },
     "execution_count": 3,
     "metadata": {},
     "output_type": "execute_result"
    }
   ],
   "source": [
    "data_train.shape"
   ]
  },
  {
   "cell_type": "code",
   "execution_count": 4,
   "id": "6632a45d",
   "metadata": {
    "scrolled": true
   },
   "outputs": [
    {
     "name": "stdout",
     "output_type": "stream",
     "text": [
      "<class 'pandas.core.frame.DataFrame'>\n",
      "RangeIndex: 14149 entries, 0 to 14148\n",
      "Data columns (total 87 columns):\n",
      " #   Column                                              Non-Null Count  Dtype  \n",
      "---  ------                                              --------------  -----  \n",
      " 0   date                                                14149 non-null  object \n",
      " 1   final.output.concentrate_ag                         14148 non-null  float64\n",
      " 2   final.output.concentrate_pb                         14148 non-null  float64\n",
      " 3   final.output.concentrate_sol                        13938 non-null  float64\n",
      " 4   final.output.concentrate_au                         14149 non-null  float64\n",
      " 5   final.output.recovery                               14149 non-null  float64\n",
      " 6   final.output.tail_ag                                14149 non-null  float64\n",
      " 7   final.output.tail_pb                                14049 non-null  float64\n",
      " 8   final.output.tail_sol                               14144 non-null  float64\n",
      " 9   final.output.tail_au                                14149 non-null  float64\n",
      " 10  primary_cleaner.input.sulfate                       14129 non-null  float64\n",
      " 11  primary_cleaner.input.depressant                    14117 non-null  float64\n",
      " 12  primary_cleaner.input.feed_size                     14149 non-null  float64\n",
      " 13  primary_cleaner.input.xanthate                      14049 non-null  float64\n",
      " 14  primary_cleaner.output.concentrate_ag               14149 non-null  float64\n",
      " 15  primary_cleaner.output.concentrate_pb               14063 non-null  float64\n",
      " 16  primary_cleaner.output.concentrate_sol              13863 non-null  float64\n",
      " 17  primary_cleaner.output.concentrate_au               14149 non-null  float64\n",
      " 18  primary_cleaner.output.tail_ag                      14148 non-null  float64\n",
      " 19  primary_cleaner.output.tail_pb                      14134 non-null  float64\n",
      " 20  primary_cleaner.output.tail_sol                     14103 non-null  float64\n",
      " 21  primary_cleaner.output.tail_au                      14149 non-null  float64\n",
      " 22  primary_cleaner.state.floatbank8_a_air              14145 non-null  float64\n",
      " 23  primary_cleaner.state.floatbank8_a_level            14148 non-null  float64\n",
      " 24  primary_cleaner.state.floatbank8_b_air              14145 non-null  float64\n",
      " 25  primary_cleaner.state.floatbank8_b_level            14148 non-null  float64\n",
      " 26  primary_cleaner.state.floatbank8_c_air              14147 non-null  float64\n",
      " 27  primary_cleaner.state.floatbank8_c_level            14148 non-null  float64\n",
      " 28  primary_cleaner.state.floatbank8_d_air              14146 non-null  float64\n",
      " 29  primary_cleaner.state.floatbank8_d_level            14148 non-null  float64\n",
      " 30  rougher.calculation.sulfate_to_au_concentrate       14148 non-null  float64\n",
      " 31  rougher.calculation.floatbank10_sulfate_to_au_feed  14148 non-null  float64\n",
      " 32  rougher.calculation.floatbank11_sulfate_to_au_feed  14148 non-null  float64\n",
      " 33  rougher.calculation.au_pb_ratio                     14149 non-null  float64\n",
      " 34  rougher.input.feed_ag                               14149 non-null  float64\n",
      " 35  rougher.input.feed_pb                               14049 non-null  float64\n",
      " 36  rougher.input.feed_rate                             14141 non-null  float64\n",
      " 37  rougher.input.feed_size                             14005 non-null  float64\n",
      " 38  rougher.input.feed_sol                              14071 non-null  float64\n",
      " 39  rougher.input.feed_au                               14149 non-null  float64\n",
      " 40  rougher.input.floatbank10_sulfate                   14120 non-null  float64\n",
      " 41  rougher.input.floatbank10_xanthate                  14141 non-null  float64\n",
      " 42  rougher.input.floatbank11_sulfate                   14113 non-null  float64\n",
      " 43  rougher.input.floatbank11_xanthate                  13721 non-null  float64\n",
      " 44  rougher.output.concentrate_ag                       14149 non-null  float64\n",
      " 45  rougher.output.concentrate_pb                       14149 non-null  float64\n",
      " 46  rougher.output.concentrate_sol                      14127 non-null  float64\n",
      " 47  rougher.output.concentrate_au                       14149 non-null  float64\n",
      " 48  rougher.output.recovery                             14149 non-null  float64\n",
      " 49  rougher.output.tail_ag                              14148 non-null  float64\n",
      " 50  rougher.output.tail_pb                              14149 non-null  float64\n",
      " 51  rougher.output.tail_sol                             14149 non-null  float64\n",
      " 52  rougher.output.tail_au                              14149 non-null  float64\n",
      " 53  rougher.state.floatbank10_a_air                     14148 non-null  float64\n",
      " 54  rougher.state.floatbank10_a_level                   14148 non-null  float64\n",
      " 55  rougher.state.floatbank10_b_air                     14148 non-null  float64\n",
      " 56  rougher.state.floatbank10_b_level                   14148 non-null  float64\n",
      " 57  rougher.state.floatbank10_c_air                     14148 non-null  float64\n",
      " 58  rougher.state.floatbank10_c_level                   14148 non-null  float64\n",
      " 59  rougher.state.floatbank10_d_air                     14149 non-null  float64\n",
      " 60  rougher.state.floatbank10_d_level                   14149 non-null  float64\n",
      " 61  rougher.state.floatbank10_e_air                     13713 non-null  float64\n",
      " 62  rougher.state.floatbank10_e_level                   14149 non-null  float64\n",
      " 63  rougher.state.floatbank10_f_air                     14149 non-null  float64\n",
      " 64  rougher.state.floatbank10_f_level                   14149 non-null  float64\n",
      " 65  secondary_cleaner.output.tail_ag                    14147 non-null  float64\n",
      " 66  secondary_cleaner.output.tail_pb                    14139 non-null  float64\n",
      " 67  secondary_cleaner.output.tail_sol                   12544 non-null  float64\n",
      " 68  secondary_cleaner.output.tail_au                    14149 non-null  float64\n",
      " 69  secondary_cleaner.state.floatbank2_a_air            13932 non-null  float64\n",
      " 70  secondary_cleaner.state.floatbank2_a_level          14148 non-null  float64\n",
      " 71  secondary_cleaner.state.floatbank2_b_air            14128 non-null  float64\n",
      " 72  secondary_cleaner.state.floatbank2_b_level          14148 non-null  float64\n",
      " 73  secondary_cleaner.state.floatbank3_a_air            14145 non-null  float64\n",
      " 74  secondary_cleaner.state.floatbank3_a_level          14148 non-null  float64\n",
      " 75  secondary_cleaner.state.floatbank3_b_air            14148 non-null  float64\n",
      " 76  secondary_cleaner.state.floatbank3_b_level          14148 non-null  float64\n",
      " 77  secondary_cleaner.state.floatbank4_a_air            14143 non-null  float64\n",
      " 78  secondary_cleaner.state.floatbank4_a_level          14148 non-null  float64\n",
      " 79  secondary_cleaner.state.floatbank4_b_air            14148 non-null  float64\n",
      " 80  secondary_cleaner.state.floatbank4_b_level          14148 non-null  float64\n",
      " 81  secondary_cleaner.state.floatbank5_a_air            14148 non-null  float64\n",
      " 82  secondary_cleaner.state.floatbank5_a_level          14148 non-null  float64\n",
      " 83  secondary_cleaner.state.floatbank5_b_air            14148 non-null  float64\n",
      " 84  secondary_cleaner.state.floatbank5_b_level          14148 non-null  float64\n",
      " 85  secondary_cleaner.state.floatbank6_a_air            14147 non-null  float64\n",
      " 86  secondary_cleaner.state.floatbank6_a_level          14148 non-null  float64\n",
      "dtypes: float64(86), object(1)\n",
      "memory usage: 9.4+ MB\n"
     ]
    }
   ],
   "source": [
    "data_train.info()"
   ]
  },
  {
   "cell_type": "code",
   "execution_count": 5,
   "id": "7f8bffba",
   "metadata": {
    "scrolled": true
   },
   "outputs": [
    {
     "data": {
      "text/plain": [
       "date                                            0\n",
       "final.output.concentrate_ag                     1\n",
       "final.output.concentrate_pb                     1\n",
       "final.output.concentrate_sol                  211\n",
       "final.output.concentrate_au                     0\n",
       "                                             ... \n",
       "secondary_cleaner.state.floatbank5_a_level      1\n",
       "secondary_cleaner.state.floatbank5_b_air        1\n",
       "secondary_cleaner.state.floatbank5_b_level      1\n",
       "secondary_cleaner.state.floatbank6_a_air        2\n",
       "secondary_cleaner.state.floatbank6_a_level      1\n",
       "Length: 87, dtype: int64"
      ]
     },
     "execution_count": 5,
     "metadata": {},
     "output_type": "execute_result"
    }
   ],
   "source": [
    "pd.options.display.max_rows\n",
    "data_train.isna().sum()"
   ]
  },
  {
   "cell_type": "code",
   "execution_count": 6,
   "id": "29562c86",
   "metadata": {},
   "outputs": [
    {
     "data": {
      "text/plain": [
       "0"
      ]
     },
     "execution_count": 6,
     "metadata": {},
     "output_type": "execute_result"
    }
   ],
   "source": [
    "data_train.duplicated().sum()"
   ]
  },
  {
   "cell_type": "markdown",
   "id": "0b462ec5",
   "metadata": {},
   "source": [
    "**Тестовый набор**"
   ]
  },
  {
   "cell_type": "code",
   "execution_count": 7,
   "id": "f82a2f44",
   "metadata": {},
   "outputs": [
    {
     "data": {
      "text/plain": [
       "(5290, 53)"
      ]
     },
     "execution_count": 7,
     "metadata": {},
     "output_type": "execute_result"
    }
   ],
   "source": [
    "data_test.shape"
   ]
  },
  {
   "cell_type": "code",
   "execution_count": 8,
   "id": "b6b8f01b",
   "metadata": {
    "scrolled": true
   },
   "outputs": [
    {
     "name": "stdout",
     "output_type": "stream",
     "text": [
      "<class 'pandas.core.frame.DataFrame'>\n",
      "RangeIndex: 5290 entries, 0 to 5289\n",
      "Data columns (total 53 columns):\n",
      " #   Column                                      Non-Null Count  Dtype  \n",
      "---  ------                                      --------------  -----  \n",
      " 0   date                                        5290 non-null   object \n",
      " 1   primary_cleaner.input.sulfate               5286 non-null   float64\n",
      " 2   primary_cleaner.input.depressant            5285 non-null   float64\n",
      " 3   primary_cleaner.input.feed_size             5290 non-null   float64\n",
      " 4   primary_cleaner.input.xanthate              5286 non-null   float64\n",
      " 5   primary_cleaner.state.floatbank8_a_air      5290 non-null   float64\n",
      " 6   primary_cleaner.state.floatbank8_a_level    5290 non-null   float64\n",
      " 7   primary_cleaner.state.floatbank8_b_air      5290 non-null   float64\n",
      " 8   primary_cleaner.state.floatbank8_b_level    5290 non-null   float64\n",
      " 9   primary_cleaner.state.floatbank8_c_air      5290 non-null   float64\n",
      " 10  primary_cleaner.state.floatbank8_c_level    5290 non-null   float64\n",
      " 11  primary_cleaner.state.floatbank8_d_air      5290 non-null   float64\n",
      " 12  primary_cleaner.state.floatbank8_d_level    5290 non-null   float64\n",
      " 13  rougher.input.feed_ag                       5290 non-null   float64\n",
      " 14  rougher.input.feed_pb                       5290 non-null   float64\n",
      " 15  rougher.input.feed_rate                     5287 non-null   float64\n",
      " 16  rougher.input.feed_size                     5289 non-null   float64\n",
      " 17  rougher.input.feed_sol                      5269 non-null   float64\n",
      " 18  rougher.input.feed_au                       5290 non-null   float64\n",
      " 19  rougher.input.floatbank10_sulfate           5285 non-null   float64\n",
      " 20  rougher.input.floatbank10_xanthate          5290 non-null   float64\n",
      " 21  rougher.input.floatbank11_sulfate           5282 non-null   float64\n",
      " 22  rougher.input.floatbank11_xanthate          5265 non-null   float64\n",
      " 23  rougher.state.floatbank10_a_air             5290 non-null   float64\n",
      " 24  rougher.state.floatbank10_a_level           5290 non-null   float64\n",
      " 25  rougher.state.floatbank10_b_air             5290 non-null   float64\n",
      " 26  rougher.state.floatbank10_b_level           5290 non-null   float64\n",
      " 27  rougher.state.floatbank10_c_air             5290 non-null   float64\n",
      " 28  rougher.state.floatbank10_c_level           5290 non-null   float64\n",
      " 29  rougher.state.floatbank10_d_air             5290 non-null   float64\n",
      " 30  rougher.state.floatbank10_d_level           5290 non-null   float64\n",
      " 31  rougher.state.floatbank10_e_air             5290 non-null   float64\n",
      " 32  rougher.state.floatbank10_e_level           5290 non-null   float64\n",
      " 33  rougher.state.floatbank10_f_air             5290 non-null   float64\n",
      " 34  rougher.state.floatbank10_f_level           5290 non-null   float64\n",
      " 35  secondary_cleaner.state.floatbank2_a_air    5287 non-null   float64\n",
      " 36  secondary_cleaner.state.floatbank2_a_level  5290 non-null   float64\n",
      " 37  secondary_cleaner.state.floatbank2_b_air    5288 non-null   float64\n",
      " 38  secondary_cleaner.state.floatbank2_b_level  5290 non-null   float64\n",
      " 39  secondary_cleaner.state.floatbank3_a_air    5281 non-null   float64\n",
      " 40  secondary_cleaner.state.floatbank3_a_level  5290 non-null   float64\n",
      " 41  secondary_cleaner.state.floatbank3_b_air    5290 non-null   float64\n",
      " 42  secondary_cleaner.state.floatbank3_b_level  5290 non-null   float64\n",
      " 43  secondary_cleaner.state.floatbank4_a_air    5290 non-null   float64\n",
      " 44  secondary_cleaner.state.floatbank4_a_level  5290 non-null   float64\n",
      " 45  secondary_cleaner.state.floatbank4_b_air    5290 non-null   float64\n",
      " 46  secondary_cleaner.state.floatbank4_b_level  5290 non-null   float64\n",
      " 47  secondary_cleaner.state.floatbank5_a_air    5290 non-null   float64\n",
      " 48  secondary_cleaner.state.floatbank5_a_level  5290 non-null   float64\n",
      " 49  secondary_cleaner.state.floatbank5_b_air    5290 non-null   float64\n",
      " 50  secondary_cleaner.state.floatbank5_b_level  5290 non-null   float64\n",
      " 51  secondary_cleaner.state.floatbank6_a_air    5290 non-null   float64\n",
      " 52  secondary_cleaner.state.floatbank6_a_level  5290 non-null   float64\n",
      "dtypes: float64(52), object(1)\n",
      "memory usage: 2.1+ MB\n"
     ]
    }
   ],
   "source": [
    "data_test.info()"
   ]
  },
  {
   "cell_type": "code",
   "execution_count": 9,
   "id": "6b5a94b1",
   "metadata": {
    "scrolled": true
   },
   "outputs": [
    {
     "data": {
      "text/plain": [
       "date                                           0\n",
       "primary_cleaner.input.sulfate                  4\n",
       "primary_cleaner.input.depressant               5\n",
       "primary_cleaner.input.feed_size                0\n",
       "primary_cleaner.input.xanthate                 4\n",
       "primary_cleaner.state.floatbank8_a_air         0\n",
       "primary_cleaner.state.floatbank8_a_level       0\n",
       "primary_cleaner.state.floatbank8_b_air         0\n",
       "primary_cleaner.state.floatbank8_b_level       0\n",
       "primary_cleaner.state.floatbank8_c_air         0\n",
       "primary_cleaner.state.floatbank8_c_level       0\n",
       "primary_cleaner.state.floatbank8_d_air         0\n",
       "primary_cleaner.state.floatbank8_d_level       0\n",
       "rougher.input.feed_ag                          0\n",
       "rougher.input.feed_pb                          0\n",
       "rougher.input.feed_rate                        3\n",
       "rougher.input.feed_size                        1\n",
       "rougher.input.feed_sol                        21\n",
       "rougher.input.feed_au                          0\n",
       "rougher.input.floatbank10_sulfate              5\n",
       "rougher.input.floatbank10_xanthate             0\n",
       "rougher.input.floatbank11_sulfate              8\n",
       "rougher.input.floatbank11_xanthate            25\n",
       "rougher.state.floatbank10_a_air                0\n",
       "rougher.state.floatbank10_a_level              0\n",
       "rougher.state.floatbank10_b_air                0\n",
       "rougher.state.floatbank10_b_level              0\n",
       "rougher.state.floatbank10_c_air                0\n",
       "rougher.state.floatbank10_c_level              0\n",
       "rougher.state.floatbank10_d_air                0\n",
       "rougher.state.floatbank10_d_level              0\n",
       "rougher.state.floatbank10_e_air                0\n",
       "rougher.state.floatbank10_e_level              0\n",
       "rougher.state.floatbank10_f_air                0\n",
       "rougher.state.floatbank10_f_level              0\n",
       "secondary_cleaner.state.floatbank2_a_air       3\n",
       "secondary_cleaner.state.floatbank2_a_level     0\n",
       "secondary_cleaner.state.floatbank2_b_air       2\n",
       "secondary_cleaner.state.floatbank2_b_level     0\n",
       "secondary_cleaner.state.floatbank3_a_air       9\n",
       "secondary_cleaner.state.floatbank3_a_level     0\n",
       "secondary_cleaner.state.floatbank3_b_air       0\n",
       "secondary_cleaner.state.floatbank3_b_level     0\n",
       "secondary_cleaner.state.floatbank4_a_air       0\n",
       "secondary_cleaner.state.floatbank4_a_level     0\n",
       "secondary_cleaner.state.floatbank4_b_air       0\n",
       "secondary_cleaner.state.floatbank4_b_level     0\n",
       "secondary_cleaner.state.floatbank5_a_air       0\n",
       "secondary_cleaner.state.floatbank5_a_level     0\n",
       "secondary_cleaner.state.floatbank5_b_air       0\n",
       "secondary_cleaner.state.floatbank5_b_level     0\n",
       "secondary_cleaner.state.floatbank6_a_air       0\n",
       "secondary_cleaner.state.floatbank6_a_level     0\n",
       "dtype: int64"
      ]
     },
     "execution_count": 9,
     "metadata": {},
     "output_type": "execute_result"
    }
   ],
   "source": [
    "data_test.isna().sum()"
   ]
  },
  {
   "cell_type": "code",
   "execution_count": 10,
   "id": "a9e4cf78",
   "metadata": {},
   "outputs": [
    {
     "data": {
      "text/plain": [
       "0"
      ]
     },
     "execution_count": 10,
     "metadata": {},
     "output_type": "execute_result"
    }
   ],
   "source": [
    "data_test.duplicated().sum()"
   ]
  },
  {
   "cell_type": "markdown",
   "id": "88757158",
   "metadata": {},
   "source": [
    "**Полный набор**"
   ]
  },
  {
   "cell_type": "code",
   "execution_count": 11,
   "id": "5b786505",
   "metadata": {},
   "outputs": [
    {
     "data": {
      "text/plain": [
       "(19439, 87)"
      ]
     },
     "execution_count": 11,
     "metadata": {},
     "output_type": "execute_result"
    }
   ],
   "source": [
    "data_full.shape"
   ]
  },
  {
   "cell_type": "code",
   "execution_count": 12,
   "id": "77eeacab",
   "metadata": {
    "scrolled": true
   },
   "outputs": [
    {
     "name": "stdout",
     "output_type": "stream",
     "text": [
      "<class 'pandas.core.frame.DataFrame'>\n",
      "RangeIndex: 19439 entries, 0 to 19438\n",
      "Data columns (total 87 columns):\n",
      " #   Column                                              Non-Null Count  Dtype  \n",
      "---  ------                                              --------------  -----  \n",
      " 0   date                                                19439 non-null  object \n",
      " 1   final.output.concentrate_ag                         19438 non-null  float64\n",
      " 2   final.output.concentrate_pb                         19438 non-null  float64\n",
      " 3   final.output.concentrate_sol                        19228 non-null  float64\n",
      " 4   final.output.concentrate_au                         19439 non-null  float64\n",
      " 5   final.output.recovery                               19439 non-null  float64\n",
      " 6   final.output.tail_ag                                19438 non-null  float64\n",
      " 7   final.output.tail_pb                                19338 non-null  float64\n",
      " 8   final.output.tail_sol                               19433 non-null  float64\n",
      " 9   final.output.tail_au                                19439 non-null  float64\n",
      " 10  primary_cleaner.input.sulfate                       19415 non-null  float64\n",
      " 11  primary_cleaner.input.depressant                    19402 non-null  float64\n",
      " 12  primary_cleaner.input.feed_size                     19439 non-null  float64\n",
      " 13  primary_cleaner.input.xanthate                      19335 non-null  float64\n",
      " 14  primary_cleaner.output.concentrate_ag               19439 non-null  float64\n",
      " 15  primary_cleaner.output.concentrate_pb               19323 non-null  float64\n",
      " 16  primary_cleaner.output.concentrate_sol              19069 non-null  float64\n",
      " 17  primary_cleaner.output.concentrate_au               19439 non-null  float64\n",
      " 18  primary_cleaner.output.tail_ag                      19435 non-null  float64\n",
      " 19  primary_cleaner.output.tail_pb                      19418 non-null  float64\n",
      " 20  primary_cleaner.output.tail_sol                     19377 non-null  float64\n",
      " 21  primary_cleaner.output.tail_au                      19439 non-null  float64\n",
      " 22  primary_cleaner.state.floatbank8_a_air              19435 non-null  float64\n",
      " 23  primary_cleaner.state.floatbank8_a_level            19438 non-null  float64\n",
      " 24  primary_cleaner.state.floatbank8_b_air              19435 non-null  float64\n",
      " 25  primary_cleaner.state.floatbank8_b_level            19438 non-null  float64\n",
      " 26  primary_cleaner.state.floatbank8_c_air              19437 non-null  float64\n",
      " 27  primary_cleaner.state.floatbank8_c_level            19438 non-null  float64\n",
      " 28  primary_cleaner.state.floatbank8_d_air              19436 non-null  float64\n",
      " 29  primary_cleaner.state.floatbank8_d_level            19438 non-null  float64\n",
      " 30  rougher.calculation.sulfate_to_au_concentrate       19437 non-null  float64\n",
      " 31  rougher.calculation.floatbank10_sulfate_to_au_feed  19437 non-null  float64\n",
      " 32  rougher.calculation.floatbank11_sulfate_to_au_feed  19437 non-null  float64\n",
      " 33  rougher.calculation.au_pb_ratio                     19439 non-null  float64\n",
      " 34  rougher.input.feed_ag                               19439 non-null  float64\n",
      " 35  rougher.input.feed_pb                               19339 non-null  float64\n",
      " 36  rougher.input.feed_rate                             19428 non-null  float64\n",
      " 37  rougher.input.feed_size                             19294 non-null  float64\n",
      " 38  rougher.input.feed_sol                              19340 non-null  float64\n",
      " 39  rougher.input.feed_au                               19439 non-null  float64\n",
      " 40  rougher.input.floatbank10_sulfate                   19405 non-null  float64\n",
      " 41  rougher.input.floatbank10_xanthate                  19431 non-null  float64\n",
      " 42  rougher.input.floatbank11_sulfate                   19395 non-null  float64\n",
      " 43  rougher.input.floatbank11_xanthate                  18986 non-null  float64\n",
      " 44  rougher.output.concentrate_ag                       19439 non-null  float64\n",
      " 45  rougher.output.concentrate_pb                       19439 non-null  float64\n",
      " 46  rougher.output.concentrate_sol                      19416 non-null  float64\n",
      " 47  rougher.output.concentrate_au                       19439 non-null  float64\n",
      " 48  rougher.output.recovery                             19439 non-null  float64\n",
      " 49  rougher.output.tail_ag                              19438 non-null  float64\n",
      " 50  rougher.output.tail_pb                              19439 non-null  float64\n",
      " 51  rougher.output.tail_sol                             19439 non-null  float64\n",
      " 52  rougher.output.tail_au                              19439 non-null  float64\n",
      " 53  rougher.state.floatbank10_a_air                     19438 non-null  float64\n",
      " 54  rougher.state.floatbank10_a_level                   19438 non-null  float64\n",
      " 55  rougher.state.floatbank10_b_air                     19438 non-null  float64\n",
      " 56  rougher.state.floatbank10_b_level                   19438 non-null  float64\n",
      " 57  rougher.state.floatbank10_c_air                     19438 non-null  float64\n",
      " 58  rougher.state.floatbank10_c_level                   19438 non-null  float64\n",
      " 59  rougher.state.floatbank10_d_air                     19439 non-null  float64\n",
      " 60  rougher.state.floatbank10_d_level                   19439 non-null  float64\n",
      " 61  rougher.state.floatbank10_e_air                     19003 non-null  float64\n",
      " 62  rougher.state.floatbank10_e_level                   19439 non-null  float64\n",
      " 63  rougher.state.floatbank10_f_air                     19439 non-null  float64\n",
      " 64  rougher.state.floatbank10_f_level                   19439 non-null  float64\n",
      " 65  secondary_cleaner.output.tail_ag                    19437 non-null  float64\n",
      " 66  secondary_cleaner.output.tail_pb                    19427 non-null  float64\n",
      " 67  secondary_cleaner.output.tail_sol                   17691 non-null  float64\n",
      " 68  secondary_cleaner.output.tail_au                    19439 non-null  float64\n",
      " 69  secondary_cleaner.state.floatbank2_a_air            19219 non-null  float64\n",
      " 70  secondary_cleaner.state.floatbank2_a_level          19438 non-null  float64\n",
      " 71  secondary_cleaner.state.floatbank2_b_air            19416 non-null  float64\n",
      " 72  secondary_cleaner.state.floatbank2_b_level          19438 non-null  float64\n",
      " 73  secondary_cleaner.state.floatbank3_a_air            19426 non-null  float64\n",
      " 74  secondary_cleaner.state.floatbank3_a_level          19438 non-null  float64\n",
      " 75  secondary_cleaner.state.floatbank3_b_air            19438 non-null  float64\n",
      " 76  secondary_cleaner.state.floatbank3_b_level          19438 non-null  float64\n",
      " 77  secondary_cleaner.state.floatbank4_a_air            19433 non-null  float64\n",
      " 78  secondary_cleaner.state.floatbank4_a_level          19438 non-null  float64\n",
      " 79  secondary_cleaner.state.floatbank4_b_air            19438 non-null  float64\n",
      " 80  secondary_cleaner.state.floatbank4_b_level          19438 non-null  float64\n",
      " 81  secondary_cleaner.state.floatbank5_a_air            19438 non-null  float64\n",
      " 82  secondary_cleaner.state.floatbank5_a_level          19438 non-null  float64\n",
      " 83  secondary_cleaner.state.floatbank5_b_air            19438 non-null  float64\n",
      " 84  secondary_cleaner.state.floatbank5_b_level          19438 non-null  float64\n",
      " 85  secondary_cleaner.state.floatbank6_a_air            19437 non-null  float64\n",
      " 86  secondary_cleaner.state.floatbank6_a_level          19438 non-null  float64\n",
      "dtypes: float64(86), object(1)\n",
      "memory usage: 12.9+ MB\n"
     ]
    }
   ],
   "source": [
    "data_full.info()"
   ]
  },
  {
   "cell_type": "code",
   "execution_count": 13,
   "id": "73f2e9d3",
   "metadata": {
    "scrolled": true
   },
   "outputs": [
    {
     "data": {
      "text/plain": [
       "date                                            0\n",
       "final.output.concentrate_ag                     1\n",
       "final.output.concentrate_pb                     1\n",
       "final.output.concentrate_sol                  211\n",
       "final.output.concentrate_au                     0\n",
       "                                             ... \n",
       "secondary_cleaner.state.floatbank5_a_level      1\n",
       "secondary_cleaner.state.floatbank5_b_air        1\n",
       "secondary_cleaner.state.floatbank5_b_level      1\n",
       "secondary_cleaner.state.floatbank6_a_air        2\n",
       "secondary_cleaner.state.floatbank6_a_level      1\n",
       "Length: 87, dtype: int64"
      ]
     },
     "execution_count": 13,
     "metadata": {},
     "output_type": "execute_result"
    }
   ],
   "source": [
    "data_full.isna().sum()"
   ]
  },
  {
   "cell_type": "code",
   "execution_count": 14,
   "id": "232751cb",
   "metadata": {},
   "outputs": [
    {
     "data": {
      "text/plain": [
       "0"
      ]
     },
     "execution_count": 14,
     "metadata": {},
     "output_type": "execute_result"
    }
   ],
   "source": [
    "data_full.duplicated().sum()"
   ]
  },
  {
   "cell_type": "markdown",
   "id": "6d443793",
   "metadata": {},
   "source": [
    "###  Проверка, что эффективность обогащения рассчитана правильно"
   ]
  },
  {
   "cell_type": "markdown",
   "id": "1892a2b8",
   "metadata": {},
   "source": [
    "**доля золота в концентрате после флотации/очистки (С)**"
   ]
  },
  {
   "cell_type": "code",
   "execution_count": 15,
   "id": "644efc9b",
   "metadata": {},
   "outputs": [],
   "source": [
    "c = data_train['rougher.output.concentrate_au']"
   ]
  },
  {
   "cell_type": "markdown",
   "id": "0ddf5ad8",
   "metadata": {},
   "source": [
    "**доля золота в сырье/концентрате до флотации/очистки (F)**"
   ]
  },
  {
   "cell_type": "code",
   "execution_count": 16,
   "id": "9ab906af",
   "metadata": {},
   "outputs": [],
   "source": [
    "f = data_train['rougher.input.feed_au']"
   ]
  },
  {
   "cell_type": "markdown",
   "id": "ff2af08e",
   "metadata": {},
   "source": [
    "**доля золота в отвальных хвостах после флотации/очистки (T)**"
   ]
  },
  {
   "cell_type": "code",
   "execution_count": 17,
   "id": "6dcfa380",
   "metadata": {},
   "outputs": [],
   "source": [
    "t = data_train['rougher.output.tail_au']"
   ]
  },
  {
   "cell_type": "markdown",
   "id": "fb4aa7b2",
   "metadata": {},
   "source": [
    "**расчёт эффективности**"
   ]
  },
  {
   "cell_type": "code",
   "execution_count": 18,
   "id": "12e1b9e1",
   "metadata": {},
   "outputs": [
    {
     "data": {
      "text/plain": [
       "0        87.107763\n",
       "1        86.843261\n",
       "2        86.842308\n",
       "3        87.226430\n",
       "4        86.688794\n",
       "           ...    \n",
       "14144    89.574376\n",
       "14145    87.724007\n",
       "14146    88.890579\n",
       "14147    89.858126\n",
       "14148    89.514960\n",
       "Length: 14149, dtype: float64"
      ]
     },
     "execution_count": 18,
     "metadata": {},
     "output_type": "execute_result"
    }
   ],
   "source": [
    "recovery = ((c*(f-t))/(f*(c-t)))*100\n",
    "recovery"
   ]
  },
  {
   "cell_type": "markdown",
   "id": "2e6a0e51",
   "metadata": {},
   "source": [
    "**Проверка на аномальные значения**"
   ]
  },
  {
   "cell_type": "code",
   "execution_count": 19,
   "id": "e02ec828",
   "metadata": {},
   "outputs": [
    {
     "name": "stdout",
     "output_type": "stream",
     "text": [
      "-0.0\n",
      "100.0\n"
     ]
    }
   ],
   "source": [
    "print(recovery.min())\n",
    "print(recovery.max())"
   ]
  },
  {
   "cell_type": "code",
   "execution_count": 20,
   "id": "88d32acd",
   "metadata": {},
   "outputs": [
    {
     "name": "stdout",
     "output_type": "stream",
     "text": [
      "0.0\n",
      "100.0\n"
     ]
    }
   ],
   "source": [
    "print(data_train['rougher.output.recovery'].min())\n",
    "print(data_train['rougher.output.recovery'].max())"
   ]
  },
  {
   "cell_type": "markdown",
   "id": "eb428812",
   "metadata": {},
   "source": [
    "**Сравнение значений**"
   ]
  },
  {
   "cell_type": "code",
   "execution_count": 21,
   "id": "4b5e5b44",
   "metadata": {},
   "outputs": [
    {
     "name": "stdout",
     "output_type": "stream",
     "text": [
      "6712\n",
      "7437\n"
     ]
    }
   ],
   "source": [
    "print((data_train['rougher.output.recovery'] == recovery).sum())\n",
    "print((data_train['rougher.output.recovery'] != recovery).sum())"
   ]
  },
  {
   "cell_type": "markdown",
   "id": "bd7adac9",
   "metadata": {},
   "source": [
    "**Подсчёт средней абсолютной ошибки (МАЕ)**"
   ]
  },
  {
   "cell_type": "code",
   "execution_count": 22,
   "id": "64495882",
   "metadata": {},
   "outputs": [
    {
     "data": {
      "text/plain": [
       "9.73512347450521e-15"
      ]
     },
     "execution_count": 22,
     "metadata": {},
     "output_type": "execute_result"
    }
   ],
   "source": [
    "mean_absolute_error(data_train['rougher.output.recovery'],recovery)"
   ]
  },
  {
   "cell_type": "markdown",
   "id": "e5192eb0",
   "metadata": {},
   "source": [
    "**Вывод:** После проверки расчёта эффективности обогащения, сравнения значений и подсчёта МАЕ можно сделать вывод о наличии незначительных ошибок в тренировочных данных."
   ]
  },
  {
   "cell_type": "markdown",
   "id": "7c0fa193",
   "metadata": {},
   "source": [
    "###  Анализ признаков, недоступных в тестовой выборке."
   ]
  },
  {
   "cell_type": "code",
   "execution_count": 23,
   "id": "bae96577",
   "metadata": {
    "scrolled": true
   },
   "outputs": [
    {
     "data": {
      "text/plain": [
       "array(['date', 'primary_cleaner.input.sulfate',\n",
       "       'primary_cleaner.input.depressant',\n",
       "       'primary_cleaner.input.feed_size',\n",
       "       'primary_cleaner.input.xanthate',\n",
       "       'primary_cleaner.state.floatbank8_a_air',\n",
       "       'primary_cleaner.state.floatbank8_a_level',\n",
       "       'primary_cleaner.state.floatbank8_b_air',\n",
       "       'primary_cleaner.state.floatbank8_b_level',\n",
       "       'primary_cleaner.state.floatbank8_c_air',\n",
       "       'primary_cleaner.state.floatbank8_c_level',\n",
       "       'primary_cleaner.state.floatbank8_d_air',\n",
       "       'primary_cleaner.state.floatbank8_d_level',\n",
       "       'rougher.input.feed_ag', 'rougher.input.feed_pb',\n",
       "       'rougher.input.feed_rate', 'rougher.input.feed_size',\n",
       "       'rougher.input.feed_sol', 'rougher.input.feed_au',\n",
       "       'rougher.input.floatbank10_sulfate',\n",
       "       'rougher.input.floatbank10_xanthate',\n",
       "       'rougher.input.floatbank11_sulfate',\n",
       "       'rougher.input.floatbank11_xanthate',\n",
       "       'rougher.state.floatbank10_a_air',\n",
       "       'rougher.state.floatbank10_a_level',\n",
       "       'rougher.state.floatbank10_b_air',\n",
       "       'rougher.state.floatbank10_b_level',\n",
       "       'rougher.state.floatbank10_c_air',\n",
       "       'rougher.state.floatbank10_c_level',\n",
       "       'rougher.state.floatbank10_d_air',\n",
       "       'rougher.state.floatbank10_d_level',\n",
       "       'rougher.state.floatbank10_e_air',\n",
       "       'rougher.state.floatbank10_e_level',\n",
       "       'rougher.state.floatbank10_f_air',\n",
       "       'rougher.state.floatbank10_f_level',\n",
       "       'secondary_cleaner.state.floatbank2_a_air',\n",
       "       'secondary_cleaner.state.floatbank2_a_level',\n",
       "       'secondary_cleaner.state.floatbank2_b_air',\n",
       "       'secondary_cleaner.state.floatbank2_b_level',\n",
       "       'secondary_cleaner.state.floatbank3_a_air',\n",
       "       'secondary_cleaner.state.floatbank3_a_level',\n",
       "       'secondary_cleaner.state.floatbank3_b_air',\n",
       "       'secondary_cleaner.state.floatbank3_b_level',\n",
       "       'secondary_cleaner.state.floatbank4_a_air',\n",
       "       'secondary_cleaner.state.floatbank4_a_level',\n",
       "       'secondary_cleaner.state.floatbank4_b_air',\n",
       "       'secondary_cleaner.state.floatbank4_b_level',\n",
       "       'secondary_cleaner.state.floatbank5_a_air',\n",
       "       'secondary_cleaner.state.floatbank5_a_level',\n",
       "       'secondary_cleaner.state.floatbank5_b_air',\n",
       "       'secondary_cleaner.state.floatbank5_b_level',\n",
       "       'secondary_cleaner.state.floatbank6_a_air',\n",
       "       'secondary_cleaner.state.floatbank6_a_level'], dtype=object)"
      ]
     },
     "execution_count": 23,
     "metadata": {},
     "output_type": "execute_result"
    }
   ],
   "source": [
    "features_in_test = data_test.columns.values\n",
    "features_in_test"
   ]
  },
  {
   "cell_type": "code",
   "execution_count": 24,
   "id": "b27e24e5",
   "metadata": {},
   "outputs": [],
   "source": [
    "not_in_test = data_train.drop(features_in_test, axis=1)"
   ]
  },
  {
   "cell_type": "code",
   "execution_count": 25,
   "id": "95e64e66",
   "metadata": {
    "scrolled": true
   },
   "outputs": [
    {
     "name": "stdout",
     "output_type": "stream",
     "text": [
      "<class 'pandas.core.frame.DataFrame'>\n",
      "RangeIndex: 14149 entries, 0 to 14148\n",
      "Data columns (total 34 columns):\n",
      " #   Column                                              Non-Null Count  Dtype  \n",
      "---  ------                                              --------------  -----  \n",
      " 0   final.output.concentrate_ag                         14148 non-null  float64\n",
      " 1   final.output.concentrate_pb                         14148 non-null  float64\n",
      " 2   final.output.concentrate_sol                        13938 non-null  float64\n",
      " 3   final.output.concentrate_au                         14149 non-null  float64\n",
      " 4   final.output.recovery                               14149 non-null  float64\n",
      " 5   final.output.tail_ag                                14149 non-null  float64\n",
      " 6   final.output.tail_pb                                14049 non-null  float64\n",
      " 7   final.output.tail_sol                               14144 non-null  float64\n",
      " 8   final.output.tail_au                                14149 non-null  float64\n",
      " 9   primary_cleaner.output.concentrate_ag               14149 non-null  float64\n",
      " 10  primary_cleaner.output.concentrate_pb               14063 non-null  float64\n",
      " 11  primary_cleaner.output.concentrate_sol              13863 non-null  float64\n",
      " 12  primary_cleaner.output.concentrate_au               14149 non-null  float64\n",
      " 13  primary_cleaner.output.tail_ag                      14148 non-null  float64\n",
      " 14  primary_cleaner.output.tail_pb                      14134 non-null  float64\n",
      " 15  primary_cleaner.output.tail_sol                     14103 non-null  float64\n",
      " 16  primary_cleaner.output.tail_au                      14149 non-null  float64\n",
      " 17  rougher.calculation.sulfate_to_au_concentrate       14148 non-null  float64\n",
      " 18  rougher.calculation.floatbank10_sulfate_to_au_feed  14148 non-null  float64\n",
      " 19  rougher.calculation.floatbank11_sulfate_to_au_feed  14148 non-null  float64\n",
      " 20  rougher.calculation.au_pb_ratio                     14149 non-null  float64\n",
      " 21  rougher.output.concentrate_ag                       14149 non-null  float64\n",
      " 22  rougher.output.concentrate_pb                       14149 non-null  float64\n",
      " 23  rougher.output.concentrate_sol                      14127 non-null  float64\n",
      " 24  rougher.output.concentrate_au                       14149 non-null  float64\n",
      " 25  rougher.output.recovery                             14149 non-null  float64\n",
      " 26  rougher.output.tail_ag                              14148 non-null  float64\n",
      " 27  rougher.output.tail_pb                              14149 non-null  float64\n",
      " 28  rougher.output.tail_sol                             14149 non-null  float64\n",
      " 29  rougher.output.tail_au                              14149 non-null  float64\n",
      " 30  secondary_cleaner.output.tail_ag                    14147 non-null  float64\n",
      " 31  secondary_cleaner.output.tail_pb                    14139 non-null  float64\n",
      " 32  secondary_cleaner.output.tail_sol                   12544 non-null  float64\n",
      " 33  secondary_cleaner.output.tail_au                    14149 non-null  float64\n",
      "dtypes: float64(34)\n",
      "memory usage: 3.7 MB\n"
     ]
    }
   ],
   "source": [
    "not_in_test.info()"
   ]
  },
  {
   "cell_type": "markdown",
   "id": "88d178a8",
   "metadata": {},
   "source": [
    "**Вывод:** в тестовой выборке отсутсвуют признаки с параметром output(значений на выходе после операции) и calculation(расчётных характеристик)."
   ]
  },
  {
   "cell_type": "markdown",
   "id": "87fdea4e",
   "metadata": {},
   "source": [
    "### Предобработка данных."
   ]
  },
  {
   "cell_type": "markdown",
   "id": "5d3cddd9",
   "metadata": {},
   "source": [
    "**Признаки идут по порядку,согласно дате и времени проведения манипуляций. Заполним пропуски используя forward fill**"
   ]
  },
  {
   "cell_type": "code",
   "execution_count": 26,
   "id": "8958a7ea",
   "metadata": {},
   "outputs": [],
   "source": [
    "data_train = data_train.fillna(method='ffill')\n",
    "data_test = data_test.fillna(method='ffill')\n",
    "data_full = data_full.fillna(method='ffill')"
   ]
  },
  {
   "cell_type": "markdown",
   "id": "fed83b78",
   "metadata": {},
   "source": [
    "**Изменим значения в столбце date**"
   ]
  },
  {
   "cell_type": "code",
   "execution_count": 27,
   "id": "662cdecc",
   "metadata": {},
   "outputs": [],
   "source": [
    "data_train['date'] = pd.to_datetime(data_train['date'], format='%Y.%m.%d %H:%M:%S')\n",
    "data_test['date'] = pd.to_datetime(data_test['date'], format='%Y.%m.%d %H:%M:%S')\n",
    "data_full['date'] = pd.to_datetime(data_full['date'], format='%Y.%m.%d %H:%M:%S')"
   ]
  },
  {
   "cell_type": "markdown",
   "id": "60cdadfa",
   "metadata": {},
   "source": [
    "## Анализ данных"
   ]
  },
  {
   "cell_type": "markdown",
   "id": "a06fc9ec",
   "metadata": {},
   "source": [
    "### Рассмотрим, как меняется концентрация металлов (Au, Ag, Pb) на различных этапах очистки."
   ]
  },
  {
   "cell_type": "markdown",
   "id": "0333c485",
   "metadata": {},
   "source": [
    "**Как меняется концентраци золота**"
   ]
  },
  {
   "cell_type": "code",
   "execution_count": 28,
   "id": "30250c1f",
   "metadata": {},
   "outputs": [],
   "source": [
    "au_conc = data_full[['rougher.output.concentrate_au','primary_cleaner.output.concentrate_au', 'final.output.concentrate_au']]\n",
    "au_conc = au_conc.rename(columns={'rougher.output.concentrate_au' : 'После флотации',\n",
    "                        'primary_cleaner.output.concentrate_au': 'После первичной обработки',\n",
    "                        'final.output.concentrate_au' : 'После финальной обработки'})"
   ]
  },
  {
   "cell_type": "code",
   "execution_count": 29,
   "id": "f943432e",
   "metadata": {},
   "outputs": [
    {
     "data": {
      "image/png": "[encoded data removed]",
      "text/plain": [
       "<Figure size 432x288 with 1 Axes>"
      ]
     },
     "metadata": {
      "needs_background": "light"
     },
     "output_type": "display_data"
    }
   ],
   "source": [
    "sns.histplot(data=au_conc);\n",
    "sns.set(rc={'figure.figsize':(15,10)});\n",
    "plt.title('Изменение концентрации золота на различных этапах отчистки')\n",
    "plt.xlabel('Коцентрация золота в %');\n",
    "plt.ylabel('Кол-во значений');"
   ]
  },
  {
   "cell_type": "markdown",
   "id": "f75e3f16",
   "metadata": {},
   "source": [
    "**Как меняется концентрация серебра**"
   ]
  },
  {
   "cell_type": "code",
   "execution_count": 30,
   "id": "4277bc13",
   "metadata": {},
   "outputs": [],
   "source": [
    "ag_conc = data_full[['rougher.output.concentrate_ag','primary_cleaner.output.concentrate_ag', 'final.output.concentrate_ag']]\n",
    "ag_conc = ag_conc.rename(columns={'rougher.output.concentrate_ag' : 'После флотации',\n",
    "                        'primary_cleaner.output.concentrate_ag': 'После первичной обработки',\n",
    "                        'final.output.concentrate_ag' : 'После финальной обработки'})"
   ]
  },
  {
   "cell_type": "code",
   "execution_count": 31,
   "id": "8f13d286",
   "metadata": {},
   "outputs": [
    {
     "data": {
      "image/png": "[encoded data removed]",
      "text/plain": [
       "<Figure size 1080x720 with 1 Axes>"
      ]
     },
     "metadata": {},
     "output_type": "display_data"
    }
   ],
   "source": [
    "sns.histplot(data=ag_conc);\n",
    "sns.set(rc={'figure.figsize':(15,10)});\n",
    "plt.title('Изменение концентрации серебра на различных этапах отчистки')\n",
    "plt.xlabel('Коцентрация серебра в %');\n",
    "plt.ylabel('Кол-во значений');"
   ]
  },
  {
   "cell_type": "markdown",
   "id": "75029db8",
   "metadata": {},
   "source": [
    "**Как меняется концентрация свинца**"
   ]
  },
  {
   "cell_type": "code",
   "execution_count": 32,
   "id": "467ef14c",
   "metadata": {},
   "outputs": [],
   "source": [
    "pb_conc = data_full[['rougher.output.concentrate_pb','primary_cleaner.output.concentrate_pb', 'final.output.concentrate_pb']]\n",
    "pb_conc = pb_conc.rename(columns={'rougher.output.concentrate_pb' : 'После флотации',\n",
    "                        'primary_cleaner.output.concentrate_pb': 'После первичной обработки',\n",
    "                        'final.output.concentrate_pb' : 'После финальной обработки'})"
   ]
  },
  {
   "cell_type": "code",
   "execution_count": 33,
   "id": "0ca2aa88",
   "metadata": {},
   "outputs": [
    {
     "data": {
      "image/png": "[encoded data removed]",
      "text/plain": [
       "<Figure size 1080x720 with 1 Axes>"
      ]
     },
     "metadata": {},
     "output_type": "display_data"
    }
   ],
   "source": [
    "sns.histplot(data=pb_conc);\n",
    "sns.set(rc={'figure.figsize':(15,10)});\n",
    "plt.title('Изменение концентрации свинца на различных этапах отчистки')\n",
    "plt.xlabel('Коцентрация свинца в %');\n",
    "plt.ylabel('Кол-во значений');"
   ]
  },
  {
   "cell_type": "markdown",
   "id": "ef8c50b1",
   "metadata": {},
   "source": [
    "**Вывод:** конценрация золота и серебра постепенно увеличивается после каждого этапа очистки, в то время как есть вероятность включения свинца в сырье после финальной очистки."
   ]
  },
  {
   "cell_type": "markdown",
   "id": "ececc128",
   "metadata": {},
   "source": [
    "### Сравним распределения размеров гранул сырья на обучающей и тестовой выборках."
   ]
  },
  {
   "cell_type": "code",
   "execution_count": 34,
   "id": "012c8d70",
   "metadata": {},
   "outputs": [
    {
     "data": {
      "text/plain": [
       "count    14149.000000\n",
       "mean        60.239856\n",
       "std         23.005310\n",
       "min          9.659576\n",
       "25%         48.966751\n",
       "50%         55.269784\n",
       "75%         66.007526\n",
       "max        484.967466\n",
       "Name: rougher.input.feed_size, dtype: float64"
      ]
     },
     "execution_count": 34,
     "metadata": {},
     "output_type": "execute_result"
    }
   ],
   "source": [
    "data_train['rougher.input.feed_size'].describe()"
   ]
  },
  {
   "cell_type": "code",
   "execution_count": 35,
   "id": "b550be1a",
   "metadata": {},
   "outputs": [
    {
     "data": {
      "text/plain": [
       "count    5290.000000\n",
       "mean       55.952754\n",
       "std        19.080334\n",
       "min         0.046369\n",
       "25%        43.906504\n",
       "50%        50.846843\n",
       "75%        62.451165\n",
       "max       392.494040\n",
       "Name: rougher.input.feed_size, dtype: float64"
      ]
     },
     "execution_count": 35,
     "metadata": {},
     "output_type": "execute_result"
    }
   ],
   "source": [
    "data_test['rougher.input.feed_size'].describe()"
   ]
  },
  {
   "cell_type": "code",
   "execution_count": 36,
   "id": "537a8c99",
   "metadata": {},
   "outputs": [],
   "source": [
    "feed_size = pd.concat([data_train['rougher.input.feed_size'],\n",
    "                data_test['rougher.input.feed_size']],\n",
    "               axis=1, keys=['Тенировочный сет', 'Тестовый сет'])"
   ]
  },
  {
   "cell_type": "code",
   "execution_count": 37,
   "id": "4979d88c",
   "metadata": {},
   "outputs": [
    {
     "data": {
      "image/png": "[encoded data removed]",
      "text/plain": [
       "<Figure size 1080x720 with 1 Axes>"
      ]
     },
     "metadata": {},
     "output_type": "display_data"
    }
   ],
   "source": [
    "sns.boxplot(data=feed_size);\n",
    "plt.ylim(0, 100);"
   ]
  },
  {
   "cell_type": "markdown",
   "id": "3474a8f1",
   "metadata": {},
   "source": [
    "**Вывод:** после рассмотрения размеров гранул сырья видно, что значения в тренировочном и тестовых наборах данных распределены примерно одинаково."
   ]
  },
  {
   "cell_type": "markdown",
   "id": "b1760f91",
   "metadata": {},
   "source": [
    "### Исследуем суммарную концентрацию всех веществ на разных стадиях: в сырье, в черновом и финальном концентратах. "
   ]
  },
  {
   "cell_type": "code",
   "execution_count": 38,
   "id": "574782ea",
   "metadata": {},
   "outputs": [],
   "source": [
    "rougher_input = data_full['rougher.input.feed_ag']+\\\n",
    "data_full['rougher.input.feed_pb']+\\\n",
    "data_full['rougher.input.feed_sol']+\\\n",
    "data_full['rougher.input.feed_au']"
   ]
  },
  {
   "cell_type": "code",
   "execution_count": 39,
   "id": "7bce063c",
   "metadata": {},
   "outputs": [],
   "source": [
    "rougher_output = data_full['rougher.output.concentrate_ag']+\\\n",
    "data_full['rougher.output.concentrate_pb']+\\\n",
    "data_full['rougher.output.concentrate_sol']+\\\n",
    "data_full['rougher.output.concentrate_au']"
   ]
  },
  {
   "cell_type": "code",
   "execution_count": 40,
   "id": "289f3ef7",
   "metadata": {},
   "outputs": [],
   "source": [
    "# primary_output = data_full['primary_cleaner.output.concentrate_ag']+\\\n",
    "# data_full['primary_cleaner.output.concentrate_pb']+\\\n",
    "# data_full['primary_cleaner.output.concentrate_sol']+\\\n",
    "# data_full['primary_cleaner.output.concentrate_au']"
   ]
  },
  {
   "cell_type": "code",
   "execution_count": 41,
   "id": "f5b1e3c7",
   "metadata": {},
   "outputs": [],
   "source": [
    "final_output = data_full['final.output.concentrate_ag']+\\\n",
    "data_full['final.output.concentrate_pb']+\\\n",
    "data_full['final.output.concentrate_sol']+\\\n",
    "data_full['final.output.concentrate_au']"
   ]
  },
  {
   "cell_type": "code",
   "execution_count": 42,
   "id": "445c10fc",
   "metadata": {
    "scrolled": false
   },
   "outputs": [],
   "source": [
    "cleaning_stage = pd.concat([rougher_input,rougher_output,final_output],axis=1,\n",
    "                           keys=['Сырье', 'Черновой концентрат','Финальный концентрат'])"
   ]
  },
  {
   "cell_type": "code",
   "execution_count": 43,
   "id": "2eca2564",
   "metadata": {},
   "outputs": [
    {
     "data": {
      "image/png": "[encoded data removed]",
      "text/plain": [
       "<Figure size 1080x720 with 1 Axes>"
      ]
     },
     "metadata": {},
     "output_type": "display_data"
    }
   ],
   "source": [
    "sns.histplot(data=cleaning_stage);\n",
    "sns.set(rc={'figure.figsize':(15,10)});\n",
    "plt.title('Изменение суммарной концентрации всех веществ на разных стадиях')\n",
    "plt.xlabel('Коцентрация веществ в %');\n",
    "plt.ylabel('Кол-во значений');\n",
    "plt.xlim(20,90);"
   ]
  },
  {
   "cell_type": "code",
   "execution_count": 44,
   "id": "d84dd8af",
   "metadata": {},
   "outputs": [
    {
     "data": {
      "text/html": [
       "<div>\n",
       "<style scoped>\n",
       "    .dataframe tbody tr th:only-of-type {\n",
       "        vertical-align: middle;\n",
       "    }\n",
       "\n",
       "    .dataframe tbody tr th {\n",
       "        vertical-align: top;\n",
       "    }\n",
       "\n",
       "    .dataframe thead th {\n",
       "        text-align: right;\n",
       "    }\n",
       "</style>\n",
       "<table border=\"1\" class=\"dataframe\">\n",
       "  <thead>\n",
       "    <tr style=\"text-align: right;\">\n",
       "      <th></th>\n",
       "      <th>Сырье</th>\n",
       "      <th>Черновой концентрат</th>\n",
       "      <th>Финальный концентрат</th>\n",
       "    </tr>\n",
       "  </thead>\n",
       "  <tbody>\n",
       "    <tr>\n",
       "      <th>count</th>\n",
       "      <td>19439.000000</td>\n",
       "      <td>19439.000000</td>\n",
       "      <td>19439.000000</td>\n",
       "    </tr>\n",
       "    <tr>\n",
       "      <th>mean</th>\n",
       "      <td>57.320789</td>\n",
       "      <td>68.170865</td>\n",
       "      <td>68.653624</td>\n",
       "    </tr>\n",
       "    <tr>\n",
       "      <th>std</th>\n",
       "      <td>7.212680</td>\n",
       "      <td>12.491279</td>\n",
       "      <td>7.427536</td>\n",
       "    </tr>\n",
       "    <tr>\n",
       "      <th>min</th>\n",
       "      <td>0.040000</td>\n",
       "      <td>0.000000</td>\n",
       "      <td>0.000000</td>\n",
       "    </tr>\n",
       "    <tr>\n",
       "      <th>25%</th>\n",
       "      <td>53.557679</td>\n",
       "      <td>66.012495</td>\n",
       "      <td>67.932362</td>\n",
       "    </tr>\n",
       "    <tr>\n",
       "      <th>50%</th>\n",
       "      <td>57.594391</td>\n",
       "      <td>70.181495</td>\n",
       "      <td>69.598444</td>\n",
       "    </tr>\n",
       "    <tr>\n",
       "      <th>75%</th>\n",
       "      <td>61.953459</td>\n",
       "      <td>74.356904</td>\n",
       "      <td>71.368472</td>\n",
       "    </tr>\n",
       "    <tr>\n",
       "      <th>max</th>\n",
       "      <td>76.978947</td>\n",
       "      <td>88.140119</td>\n",
       "      <td>80.210644</td>\n",
       "    </tr>\n",
       "  </tbody>\n",
       "</table>\n",
       "</div>"
      ],
      "text/plain": [
       "              Сырье  Черновой концентрат  Финальный концентрат\n",
       "count  19439.000000         19439.000000          19439.000000\n",
       "mean      57.320789            68.170865             68.653624\n",
       "std        7.212680            12.491279              7.427536\n",
       "min        0.040000             0.000000              0.000000\n",
       "25%       53.557679            66.012495             67.932362\n",
       "50%       57.594391            70.181495             69.598444\n",
       "75%       61.953459            74.356904             71.368472\n",
       "max       76.978947            88.140119             80.210644"
      ]
     },
     "execution_count": 44,
     "metadata": {},
     "output_type": "execute_result"
    }
   ],
   "source": [
    "cleaning_stage.describe()"
   ]
  },
  {
   "cell_type": "markdown",
   "id": "24bc21e3",
   "metadata": {},
   "source": [
    "**Вывод:** наблюдается резкий рост концентрации веществ на финальной стадии очистки. Также, из полученных данных видно наличие веществ с общей концентрацией менее 50 %. Возможно это из-за солей!"
   ]
  },
  {
   "cell_type": "markdown",
   "id": "f1e21baa",
   "metadata": {},
   "source": [
    "**Создадим переменные с именами колонок**"
   ]
  },
  {
   "cell_type": "code",
   "execution_count": 45,
   "id": "6816eee6",
   "metadata": {
    "scrolled": false
   },
   "outputs": [],
   "source": [
    "cols_feed = ['rougher.input.feed_ag','rougher.input.feed_pb','rougher.input.feed_sol','rougher.input.feed_au']"
   ]
  },
  {
   "cell_type": "code",
   "execution_count": 46,
   "id": "c7bd6699",
   "metadata": {},
   "outputs": [],
   "source": [
    "cols_rougher = ['rougher.output.concentrate_ag','rougher.output.concentrate_pb','rougher.output.concentrate_sol','rougher.output.concentrate_au']"
   ]
  },
  {
   "cell_type": "code",
   "execution_count": 47,
   "id": "5e205b4c",
   "metadata": {},
   "outputs": [],
   "source": [
    "cols_final = ['final.output.concentrate_ag','final.output.concentrate_pb','final.output.concentrate_sol','final.output.concentrate_au']"
   ]
  },
  {
   "cell_type": "markdown",
   "id": "22464345",
   "metadata": {},
   "source": [
    "**Создадим столбцы со значениями суммарной концентрации веществ**"
   ]
  },
  {
   "cell_type": "code",
   "execution_count": 48,
   "id": "3c5b5cb5",
   "metadata": {},
   "outputs": [],
   "source": [
    "data_full['sum_feed'] = data_full[cols_feed].sum(axis=1)"
   ]
  },
  {
   "cell_type": "code",
   "execution_count": 49,
   "id": "ad0b6cca",
   "metadata": {},
   "outputs": [],
   "source": [
    "data_full['sum_rougher'] = data_full[cols_rougher].sum(axis=1)"
   ]
  },
  {
   "cell_type": "code",
   "execution_count": 50,
   "id": "bf8cb514",
   "metadata": {},
   "outputs": [],
   "source": [
    "data_full['sum_final'] = data_full[cols_final].sum(axis=1)"
   ]
  },
  {
   "cell_type": "markdown",
   "id": "c94cc9d9",
   "metadata": {},
   "source": [
    "**Исходя из графика роста концентрации вещест видно, что более значительный рост начинается с 30%. Исключим все значения ниже этого порога.**"
   ]
  },
  {
   "cell_type": "code",
   "execution_count": 51,
   "id": "c57a6361",
   "metadata": {
    "scrolled": true
   },
   "outputs": [
    {
     "data": {
      "text/plain": [
       "(18768, 90)"
      ]
     },
     "execution_count": 51,
     "metadata": {},
     "output_type": "execute_result"
    }
   ],
   "source": [
    "data_full = data_full[(data_full['sum_feed']>30)&(data_full['sum_rougher']>30)&(data_full['sum_final']>30)]\n",
    "data_full.shape"
   ]
  },
  {
   "cell_type": "markdown",
   "id": "609630e3",
   "metadata": {},
   "source": [
    "**Повторно рассмотрим описание показателей**"
   ]
  },
  {
   "cell_type": "code",
   "execution_count": 52,
   "id": "0b780cd8",
   "metadata": {},
   "outputs": [
    {
     "data": {
      "text/html": [
       "<div>\n",
       "<style scoped>\n",
       "    .dataframe tbody tr th:only-of-type {\n",
       "        vertical-align: middle;\n",
       "    }\n",
       "\n",
       "    .dataframe tbody tr th {\n",
       "        vertical-align: top;\n",
       "    }\n",
       "\n",
       "    .dataframe thead th {\n",
       "        text-align: right;\n",
       "    }\n",
       "</style>\n",
       "<table border=\"1\" class=\"dataframe\">\n",
       "  <thead>\n",
       "    <tr style=\"text-align: right;\">\n",
       "      <th></th>\n",
       "      <th>sum_feed</th>\n",
       "      <th>sum_rougher</th>\n",
       "      <th>sum_final</th>\n",
       "    </tr>\n",
       "  </thead>\n",
       "  <tbody>\n",
       "    <tr>\n",
       "      <th>count</th>\n",
       "      <td>18768.000000</td>\n",
       "      <td>18768.000000</td>\n",
       "      <td>18768.000000</td>\n",
       "    </tr>\n",
       "    <tr>\n",
       "      <th>mean</th>\n",
       "      <td>57.522664</td>\n",
       "      <td>69.760037</td>\n",
       "      <td>69.276018</td>\n",
       "    </tr>\n",
       "    <tr>\n",
       "      <th>std</th>\n",
       "      <td>6.715937</td>\n",
       "      <td>7.214944</td>\n",
       "      <td>4.305135</td>\n",
       "    </tr>\n",
       "    <tr>\n",
       "      <th>min</th>\n",
       "      <td>30.017784</td>\n",
       "      <td>30.037199</td>\n",
       "      <td>30.197439</td>\n",
       "    </tr>\n",
       "    <tr>\n",
       "      <th>25%</th>\n",
       "      <td>53.623264</td>\n",
       "      <td>66.405575</td>\n",
       "      <td>67.979639</td>\n",
       "    </tr>\n",
       "    <tr>\n",
       "      <th>50%</th>\n",
       "      <td>57.651367</td>\n",
       "      <td>70.349850</td>\n",
       "      <td>69.627599</td>\n",
       "    </tr>\n",
       "    <tr>\n",
       "      <th>75%</th>\n",
       "      <td>62.013732</td>\n",
       "      <td>74.461807</td>\n",
       "      <td>71.393471</td>\n",
       "    </tr>\n",
       "    <tr>\n",
       "      <th>max</th>\n",
       "      <td>76.978947</td>\n",
       "      <td>88.140119</td>\n",
       "      <td>80.210644</td>\n",
       "    </tr>\n",
       "  </tbody>\n",
       "</table>\n",
       "</div>"
      ],
      "text/plain": [
       "           sum_feed   sum_rougher     sum_final\n",
       "count  18768.000000  18768.000000  18768.000000\n",
       "mean      57.522664     69.760037     69.276018\n",
       "std        6.715937      7.214944      4.305135\n",
       "min       30.017784     30.037199     30.197439\n",
       "25%       53.623264     66.405575     67.979639\n",
       "50%       57.651367     70.349850     69.627599\n",
       "75%       62.013732     74.461807     71.393471\n",
       "max       76.978947     88.140119     80.210644"
      ]
     },
     "execution_count": 52,
     "metadata": {},
     "output_type": "execute_result"
    }
   ],
   "source": [
    "data_full[['sum_feed','sum_rougher','sum_final']].describe()"
   ]
  },
  {
   "cell_type": "markdown",
   "id": "93521b49",
   "metadata": {},
   "source": [
    "## Модель"
   ]
  },
  {
   "cell_type": "markdown",
   "id": "d5f9965f",
   "metadata": {},
   "source": [
    "### Напишем функцию для вычисления итоговой sMAPE"
   ]
  },
  {
   "cell_type": "markdown",
   "id": "0ab23537",
   "metadata": {},
   "source": [
    "**Эта функция станет кастомной для параметра scoring в дальнейших моделях**"
   ]
  },
  {
   "cell_type": "code",
   "execution_count": 53,
   "id": "55d67e21",
   "metadata": {},
   "outputs": [],
   "source": [
    "def sMAPE(target,prediction):\n",
    "    smape = (1/len(target)*np.sum(abs(target-prediction)/((abs(target)+abs(prediction))/2)))*100\n",
    "    return smape"
   ]
  },
  {
   "cell_type": "code",
   "execution_count": 54,
   "id": "741ceca4",
   "metadata": {},
   "outputs": [],
   "source": [
    "scorer = make_scorer(sMAPE, greater_is_better = True)"
   ]
  },
  {
   "cell_type": "code",
   "execution_count": 55,
   "id": "4585cbb1",
   "metadata": {},
   "outputs": [],
   "source": [
    "def final_sMAPE(rougher,final):\n",
    "    final_smape = 0.25*rougher+0.75*final\n",
    "    return final_smape"
   ]
  },
  {
   "cell_type": "markdown",
   "id": "f43f0612",
   "metadata": {},
   "source": [
    "### Обучим разные модели и оценим их качество кросс-валидацией. "
   ]
  },
  {
   "cell_type": "markdown",
   "id": "c95984c6",
   "metadata": {},
   "source": [
    "**Доп подготовка данных**"
   ]
  },
  {
   "cell_type": "code",
   "execution_count": 56,
   "id": "b05ef31f",
   "metadata": {},
   "outputs": [],
   "source": [
    "data_test = data_test.merge(data_full.loc[:, ['date','rougher.output.recovery','final.output.recovery']], on='date')"
   ]
  },
  {
   "cell_type": "code",
   "execution_count": 57,
   "id": "efecfdd8",
   "metadata": {},
   "outputs": [],
   "source": [
    "data_train = data_train.drop(columns=set(data_train.columns)-set(data_test.columns), axis=1)"
   ]
  },
  {
   "cell_type": "markdown",
   "id": "dd728a38",
   "metadata": {},
   "source": [
    "**Подготовка признаков(тренировочных)**"
   ]
  },
  {
   "cell_type": "code",
   "execution_count": 58,
   "id": "47b60c9b",
   "metadata": {},
   "outputs": [],
   "source": [
    "features_train = data_train.drop(['date','rougher.output.recovery','final.output.recovery'], axis=1)\n",
    "target_train=np.array(data_train[['rougher.output.recovery','final.output.recovery']])"
   ]
  },
  {
   "cell_type": "markdown",
   "id": "e1ca4651",
   "metadata": {},
   "source": [
    "**Подготовка признаков(тестовых)**"
   ]
  },
  {
   "cell_type": "code",
   "execution_count": 59,
   "id": "47b45776",
   "metadata": {},
   "outputs": [],
   "source": [
    "features_test = data_test.drop(['date','rougher.output.recovery','final.output.recovery'], axis=1)\n",
    "target_test = np.array(data_test[['rougher.output.recovery','final.output.recovery']])"
   ]
  },
  {
   "cell_type": "markdown",
   "id": "fdda9321",
   "metadata": {},
   "source": [
    "**Модель линейной регрессии**"
   ]
  },
  {
   "cell_type": "code",
   "execution_count": 60,
   "id": "cf6dcd9f",
   "metadata": {},
   "outputs": [
    {
     "data": {
      "text/plain": [
       "22.969132059671757"
      ]
     },
     "execution_count": 60,
     "metadata": {},
     "output_type": "execute_result"
    }
   ],
   "source": [
    "model_lr = LinearRegression()\n",
    "np.mean(cross_val_score(model_lr, features_train, target_train, cv=10, scoring=scorer))"
   ]
  },
  {
   "cell_type": "markdown",
   "id": "4508221d",
   "metadata": {},
   "source": [
    "**Модель дерева решений в регрессии**"
   ]
  },
  {
   "cell_type": "code",
   "execution_count": 61,
   "id": "6277c0dc",
   "metadata": {},
   "outputs": [],
   "source": [
    "state = RandomState(123)"
   ]
  },
  {
   "cell_type": "code",
   "execution_count": 62,
   "id": "44c95d36",
   "metadata": {},
   "outputs": [
    {
     "name": "stdout",
     "output_type": "stream",
     "text": [
      "Лучшая модель: DecisionTreeRegressor(max_depth=2,\n",
      "                      random_state=RandomState(MT19937) at 0x7F0A8CFCCC40)\n",
      "Лучшая КВ: 22.65625916060639\n",
      "\n",
      "CPU times: user 30.4 s, sys: 26.5 ms, total: 30.5 s\n",
      "Wall time: 30.5 s\n"
     ]
    }
   ],
   "source": [
    "%%time\n",
    "best_model = None\n",
    "best_result = 100\n",
    "for depth in range(1,10,1):\n",
    "    model_dtr = DecisionTreeRegressor(random_state=state, max_depth=depth)\n",
    "    result = np.mean(cross_val_score(model_dtr,features_train,target_train,cv=10,scoring=scorer))\n",
    "    if result < best_result:\n",
    "        best_model=model_dtr\n",
    "        best_result=result\n",
    "print('Лучшая модель:', str(best_model))\n",
    "print('Лучшая КВ:', best_result)\n",
    "print()"
   ]
  },
  {
   "cell_type": "markdown",
   "id": "eeb0d91a",
   "metadata": {},
   "source": [
    "**Модель случайного леса в регрессии**"
   ]
  },
  {
   "cell_type": "code",
   "execution_count": 63,
   "id": "d6572851",
   "metadata": {
    "scrolled": true
   },
   "outputs": [],
   "source": [
    "# %%time\n",
    "# model_rfr = RandomForestRegressor(n_estimators=81, max_depth=9, random_state=state)\n",
    "# np.mean(cross_val_score(model_rfr,features_train,target_train,cv=10,scoring=scorer))"
   ]
  },
  {
   "cell_type": "markdown",
   "id": "274a63d5",
   "metadata": {},
   "source": [
    "**Вывод:** у модели случайного леса в регрессии лучший показатель"
   ]
  },
  {
   "cell_type": "markdown",
   "id": "3d4e9f26",
   "metadata": {},
   "source": [
    "### Проверяем качество модели на тестовой выборке"
   ]
  },
  {
   "cell_type": "code",
   "execution_count": 64,
   "id": "40b1c3d2",
   "metadata": {},
   "outputs": [
    {
     "name": "stdout",
     "output_type": "stream",
     "text": [
      "CPU times: user 1min 33s, sys: 86 ms, total: 1min 33s\n",
      "Wall time: 1min 33s\n"
     ]
    },
    {
     "data": {
      "text/plain": [
       "11.44497981549397"
      ]
     },
     "execution_count": 64,
     "metadata": {},
     "output_type": "execute_result"
    }
   ],
   "source": [
    "%%time\n",
    "model_rfr = RandomForestRegressor(n_estimators=81, max_depth=9, random_state=state)\n",
    "np.mean(cross_val_score(model_rfr,features_test,target_test,cv=10,scoring=scorer))"
   ]
  },
  {
   "cell_type": "markdown",
   "id": "b8937605",
   "metadata": {},
   "source": [
    "**Рассчитаем итоговое sMAPE**"
   ]
  },
  {
   "cell_type": "markdown",
   "id": "1595eb7a",
   "metadata": {},
   "source": [
    "**Целевые признаки для тестовой выборки**"
   ]
  },
  {
   "cell_type": "code",
   "execution_count": 65,
   "id": "cef87f05",
   "metadata": {},
   "outputs": [],
   "source": [
    "target_test_rougher=np.array(data_test['rougher.output.recovery'])\n",
    "target_test_final=np.array(data_test['final.output.recovery'])"
   ]
  },
  {
   "cell_type": "markdown",
   "id": "f6444002",
   "metadata": {},
   "source": [
    "**Целевые признаки для тренировочной выборки**"
   ]
  },
  {
   "cell_type": "code",
   "execution_count": 66,
   "id": "5c4ea951",
   "metadata": {},
   "outputs": [],
   "source": [
    "target_train_rougher=np.array(data_train['rougher.output.recovery'])\n",
    "target_train_final=np.array(data_train['final.output.recovery'])"
   ]
  },
  {
   "cell_type": "markdown",
   "id": "a944eb18",
   "metadata": {},
   "source": [
    "**Применение лучшей модели с отобранными целевыми признаками**"
   ]
  },
  {
   "cell_type": "code",
   "execution_count": 67,
   "id": "337aef3a",
   "metadata": {},
   "outputs": [
    {
     "data": {
      "text/plain": [
       "7.390069446012509"
      ]
     },
     "execution_count": 67,
     "metadata": {},
     "output_type": "execute_result"
    }
   ],
   "source": [
    "model_rfr = RandomForestRegressor(n_estimators=81, max_depth=9, random_state=state)\n",
    "model_rfr.fit(features_train,target_train_rougher)\n",
    "prediction_rougher = model_rfr.predict(features_test)\n",
    "rougher = sMAPE(target_test_rougher,prediction_rougher)\n",
    "rougher"
   ]
  },
  {
   "cell_type": "code",
   "execution_count": 68,
   "id": "b689d098",
   "metadata": {},
   "outputs": [
    {
     "data": {
      "text/plain": [
       "8.349077207870529"
      ]
     },
     "execution_count": 68,
     "metadata": {},
     "output_type": "execute_result"
    }
   ],
   "source": [
    "model_rfr = RandomForestRegressor(n_estimators=81, max_depth=9, random_state=state)\n",
    "model_rfr.fit(features_train,target_train_final)\n",
    "prediction_final = model_rfr.predict(features_test)\n",
    "final = sMAPE(target_test_final,prediction_final)\n",
    "final"
   ]
  },
  {
   "cell_type": "code",
   "execution_count": 69,
   "id": "de5e47da",
   "metadata": {},
   "outputs": [
    {
     "data": {
      "text/plain": [
       "8.109325267406025"
      ]
     },
     "execution_count": 69,
     "metadata": {},
     "output_type": "execute_result"
    }
   ],
   "source": [
    "final_sMAPE(rougher,final)"
   ]
  },
  {
   "cell_type": "markdown",
   "id": "9c3e6690",
   "metadata": {},
   "source": [
    "**В качестве стратегии выберем средние значение, так как мы сравниваем со средним значением кросс-валидации**"
   ]
  },
  {
   "cell_type": "code",
   "execution_count": 70,
   "id": "d3bf5187",
   "metadata": {},
   "outputs": [],
   "source": [
    "def dummy_smape(feature,target,feature_test,target_test):\n",
    "    dummy = DummyRegressor(strategy='mean').fit(feature,target)\n",
    "    dummy_pred = dummy.predict(feature_test)\n",
    "    smape = sMAPE(target_test,dummy_pred)\n",
    "    return smape"
   ]
  },
  {
   "cell_type": "code",
   "execution_count": 71,
   "id": "7612e76d",
   "metadata": {},
   "outputs": [],
   "source": [
    "rougher = dummy_smape(features_train,target_train_rougher,features_test,target_test_rougher)"
   ]
  },
  {
   "cell_type": "code",
   "execution_count": 72,
   "id": "00f50ad1",
   "metadata": {},
   "outputs": [],
   "source": [
    "final = dummy_smape(features_train,target_train_final,features_test,target_test_final)"
   ]
  },
  {
   "cell_type": "code",
   "execution_count": 73,
   "id": "0b4921e0",
   "metadata": {},
   "outputs": [
    {
     "data": {
      "text/plain": [
       "8.084419863288065"
      ]
     },
     "execution_count": 73,
     "metadata": {},
     "output_type": "execute_result"
    }
   ],
   "source": [
    "final_sMAPE(rougher,final)"
   ]
  },
  {
   "cell_type": "markdown",
   "id": "53e0de0a",
   "metadata": {},
   "source": [
    "## Вывод"
   ]
  },
  {
   "cell_type": "markdown",
   "id": "5f8ce829",
   "metadata": {},
   "source": [
    "В процессе исследования выявлен факт увеличения процентного содержания золота и серебра в исходном сырье после прохождения различных стадий его очистки. Концентрация содержания свинца больше всего изменилось после флотации.\n",
    "\n",
    "Лучшая модель с предсказаниями обогащения чернового и финального концентрата - RandomForestRegressor.\n",
    "Итоговая sMAPE - 10.3%"
   ]
  }
 ],
 "metadata": {
  "kernelspec": {
   "display_name": "Python 3 (ipykernel)",
   "language": "python",
   "name": "python3"
  },
  "language_info": {
   "codemirror_mode": {
    "name": "ipython",
    "version": 3
   },
   "file_extension": ".py",
   "mimetype": "text/x-python",
   "name": "python",
   "nbconvert_exporter": "python",
   "pygments_lexer": "ipython3",
   "version": "3.9.13"
  }
 },
 "nbformat": 4,
 "nbformat_minor": 5
}
